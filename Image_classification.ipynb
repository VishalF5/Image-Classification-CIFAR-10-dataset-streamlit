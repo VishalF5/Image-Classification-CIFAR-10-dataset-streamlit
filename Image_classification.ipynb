{
  "cells": [
    {
      "cell_type": "code",
      "execution_count": 1,
      "metadata": {
        "id": "yEz4AUKng2-Z"
      },
      "outputs": [],
      "source": [
        "from keras.datasets import cifar10\n",
        "from keras.preprocessing.image import ImageDataGenerator\n",
        "from keras.models import Sequential\n",
        "from keras.layers import Dense, Dropout, Activation\n",
        "from keras.layers import Conv2D, MaxPooling2D, GlobalMaxPooling2D"
      ]
    },
    {
      "cell_type": "code",
      "execution_count": 3,
      "metadata": {
        "id": "gBfBDHqZhLH8"
      },
      "outputs": [],
      "source": [
        "from tensorflow.keras.utils import to_categorical"
      ]
    },
    {
      "cell_type": "code",
      "execution_count": 4,
      "metadata": {
        "colab": {
          "base_uri": "https://localhost:8080/"
        },
        "id": "W1rderdVhDIr",
        "outputId": "b8c88dc5-4e77-400b-f700-de57bf7b59e1"
      },
      "outputs": [
        {
          "name": "stdout",
          "output_type": "stream",
          "text": [
            "Downloading data from https://www.cs.toronto.edu/~kriz/cifar-10-python.tar.gz\n",
            "170500096/170498071 [==============================] - 2s 0us/step\n",
            "170508288/170498071 [==============================] - 2s 0us/step\n",
            "x_train shape: (50000, 32, 32, 3)\n",
            "50000 train samples\n",
            "10000 test samples\n"
          ]
        }
      ],
      "source": [
        "(x_train, y_train), (x_test, y_test) = cifar10.load_data()\n",
        "print('x_train shape:', x_train.shape)\n",
        "print(x_train.shape[0], 'train samples')\n",
        "print(x_test.shape[0], 'test samples')\n",
        "\n",
        "\n",
        "y_train = to_categorical(y_train, num_classes)\n",
        "y_test = to_categorical(y_test, num_classes)"
      ]
    },
    {
      "cell_type": "code",
      "execution_count": 5,
      "metadata": {
        "id": "G7gYLJHshGKy"
      },
      "outputs": [],
      "source": [
        "model = Sequential()\n",
        "\n",
        "model = Sequential()\n",
        "\n",
        "model.add(Conv2D(32, (3, 3), padding='same',\n",
        "                 input_shape=x_train.shape[1:]))\n",
        "model.add(Activation('relu'))\n",
        "\n",
        "model.add(Conv2D(48, (3, 3), padding='same',\n",
        "                 input_shape=x_train.shape[1:]))\n",
        "model.add(Activation('relu'))\n",
        "model.add(MaxPooling2D(pool_size=(2, 2)))\n",
        "model.add(Dropout(0.25))\n",
        "\n",
        "model.add(Conv2D(80, (3, 3), padding='same',\n",
        "                 input_shape=x_train.shape[1:]))\n",
        "model.add(Activation('relu'))\n",
        "model.add(MaxPooling2D(pool_size=(2, 2)))\n",
        "model.add(Dropout(0.25))\n",
        "\n",
        "model.add(Conv2D(128, (3, 3), padding='same',\n",
        "                 input_shape=x_train.shape[1:]))\n",
        "model.add(GlobalMaxPooling2D())\n",
        "model.add(Dropout(0.25))\n",
        "\n",
        "\n",
        "model.add(Dense(500))\n",
        "model.add(Activation('relu'))\n",
        "model.add(Dropout(0.25))\n",
        "model.add(Dense(num_classes))\n",
        "model.add(Activation('softmax'))"
      ]
    },
    {
      "cell_type": "code",
      "execution_count": null,
      "metadata": {
        "colab": {
          "base_uri": "https://localhost:8080/"
        },
        "id": "9IZM9yPThvTx",
        "outputId": "7acee621-32f0-4d7e-c8ab-cb37bb65f8de"
      },
      "outputs": [],
      "source": [
        "opt = tensorflow.optimizers.Adam(learning_rate = 0.0001)\n",
        "\n",
        "model.compile(loss='categorical_crossentropy',\n",
        "              optimizer=opt,\n",
        "              metrics=['accuracy'])"
      ]
    },
    {
      "cell_type": "code",
      "execution_count": 7,
      "metadata": {
        "id": "awaG49wTh1Mi"
      },
      "outputs": [],
      "source": [
        "x_train = x_train.astype('float32')\n",
        "x_test = x_test.astype('float32')\n",
        "x_train /= 255\n",
        "x_test /= 255\n",
        "tbCallBack = keras.callbacks.TensorBoard(log_dir='./Graph2', histogram_freq=0, write_graph=True, write_images=True)"
      ]
    },
    {
      "cell_type": "code",
      "execution_count": null,
      "metadata": {},
      "outputs": [],
      "source": [
        "batch_size = 32 \n",
        "num_classes = 10\n",
        "epochs = 100\n",
        "data_augmentation = True"
      ]
    },
    {
      "cell_type": "code",
      "execution_count": 8,
      "metadata": {
        "colab": {
          "base_uri": "https://localhost:8080/"
        },
        "id": "ZQOVQ6_viRBC",
        "outputId": "1baaf713-5374-47dd-87be-bda5ea921634"
      },
      "outputs": [
        {
          "name": "stdout",
          "output_type": "stream",
          "text": [
            "Using real-time data augmentation.\n"
          ]
        },
        {
          "name": "stderr",
          "output_type": "stream",
          "text": [
            "/usr/local/lib/python3.7/dist-packages/ipykernel_launcher.py:46: UserWarning: `Model.fit_generator` is deprecated and will be removed in a future version. Please use `Model.fit`, which supports generators.\n"
          ]
        },
        {
          "name": "stdout",
          "output_type": "stream",
          "text": [
            "Epoch 1/100\n",
            "1562/1562 [==============================] - 42s 20ms/step - loss: 2.0294 - accuracy: 0.2320 - val_loss: 1.7548 - val_accuracy: 0.3616\n",
            "Epoch 2/100\n",
            "1562/1562 [==============================] - 29s 19ms/step - loss: 1.7535 - accuracy: 0.3464 - val_loss: 1.5949 - val_accuracy: 0.4118\n",
            "Epoch 3/100\n",
            "1562/1562 [==============================] - 29s 19ms/step - loss: 1.6338 - accuracy: 0.3963 - val_loss: 1.4990 - val_accuracy: 0.4521\n",
            "Epoch 4/100\n",
            "1562/1562 [==============================] - 34s 21ms/step - loss: 1.5527 - accuracy: 0.4288 - val_loss: 1.4399 - val_accuracy: 0.4705\n",
            "Epoch 5/100\n",
            "1562/1562 [==============================] - 29s 18ms/step - loss: 1.4944 - accuracy: 0.4537 - val_loss: 1.4188 - val_accuracy: 0.4778\n",
            "Epoch 6/100\n",
            "1562/1562 [==============================] - 29s 19ms/step - loss: 1.4415 - accuracy: 0.4733 - val_loss: 1.3520 - val_accuracy: 0.5094\n",
            "Epoch 7/100\n",
            "1562/1562 [==============================] - 29s 18ms/step - loss: 1.3938 - accuracy: 0.4942 - val_loss: 1.3070 - val_accuracy: 0.5237\n",
            "Epoch 8/100\n",
            "1562/1562 [==============================] - 30s 19ms/step - loss: 1.3567 - accuracy: 0.5090 - val_loss: 1.2648 - val_accuracy: 0.5362\n",
            "Epoch 9/100\n",
            "1562/1562 [==============================] - 29s 19ms/step - loss: 1.3129 - accuracy: 0.5273 - val_loss: 1.1917 - val_accuracy: 0.5649\n",
            "Epoch 10/100\n",
            "1562/1562 [==============================] - 32s 20ms/step - loss: 1.2807 - accuracy: 0.5390 - val_loss: 1.1192 - val_accuracy: 0.5970\n",
            "Epoch 11/100\n",
            "1562/1562 [==============================] - 29s 18ms/step - loss: 1.2505 - accuracy: 0.5475 - val_loss: 1.1764 - val_accuracy: 0.5789\n",
            "Epoch 12/100\n",
            "1562/1562 [==============================] - 29s 18ms/step - loss: 1.2183 - accuracy: 0.5640 - val_loss: 1.0754 - val_accuracy: 0.6123\n",
            "Epoch 13/100\n",
            "1562/1562 [==============================] - 29s 19ms/step - loss: 1.1909 - accuracy: 0.5692 - val_loss: 1.0859 - val_accuracy: 0.6085\n",
            "Epoch 14/100\n",
            "1562/1562 [==============================] - 29s 19ms/step - loss: 1.1668 - accuracy: 0.5815 - val_loss: 1.0490 - val_accuracy: 0.6177\n",
            "Epoch 15/100\n",
            "1562/1562 [==============================] - 29s 19ms/step - loss: 1.1432 - accuracy: 0.5916 - val_loss: 1.0065 - val_accuracy: 0.6377\n",
            "Epoch 16/100\n",
            "1562/1562 [==============================] - 32s 20ms/step - loss: 1.1239 - accuracy: 0.5968 - val_loss: 0.9813 - val_accuracy: 0.6507\n",
            "Epoch 17/100\n",
            "1562/1562 [==============================] - 30s 19ms/step - loss: 1.1019 - accuracy: 0.6069 - val_loss: 1.0386 - val_accuracy: 0.6262\n",
            "Epoch 18/100\n",
            "1562/1562 [==============================] - 29s 18ms/step - loss: 1.0888 - accuracy: 0.6109 - val_loss: 0.9898 - val_accuracy: 0.6457\n",
            "Epoch 19/100\n",
            "1562/1562 [==============================] - 29s 18ms/step - loss: 1.0713 - accuracy: 0.6196 - val_loss: 0.9523 - val_accuracy: 0.6604\n",
            "Epoch 20/100\n",
            "1562/1562 [==============================] - 29s 19ms/step - loss: 1.0616 - accuracy: 0.6212 - val_loss: 0.9491 - val_accuracy: 0.6568\n",
            "Epoch 21/100\n",
            "1562/1562 [==============================] - 29s 18ms/step - loss: 1.0441 - accuracy: 0.6284 - val_loss: 0.9794 - val_accuracy: 0.6515\n",
            "Epoch 22/100\n",
            "1562/1562 [==============================] - 32s 21ms/step - loss: 1.0291 - accuracy: 0.6350 - val_loss: 0.9613 - val_accuracy: 0.6541\n",
            "Epoch 23/100\n",
            "1562/1562 [==============================] - 29s 18ms/step - loss: 1.0113 - accuracy: 0.6405 - val_loss: 0.9319 - val_accuracy: 0.6722\n",
            "Epoch 24/100\n",
            "1562/1562 [==============================] - 29s 19ms/step - loss: 0.9990 - accuracy: 0.6459 - val_loss: 0.9808 - val_accuracy: 0.6534\n",
            "Epoch 25/100\n",
            "1562/1562 [==============================] - 29s 18ms/step - loss: 0.9872 - accuracy: 0.6491 - val_loss: 0.8806 - val_accuracy: 0.6840\n",
            "Epoch 26/100\n",
            "1562/1562 [==============================] - 29s 19ms/step - loss: 0.9747 - accuracy: 0.6533 - val_loss: 0.9015 - val_accuracy: 0.6809\n",
            "Epoch 27/100\n",
            "1562/1562 [==============================] - 29s 18ms/step - loss: 0.9676 - accuracy: 0.6553 - val_loss: 0.8372 - val_accuracy: 0.7038\n",
            "Epoch 28/100\n",
            "1562/1562 [==============================] - 32s 21ms/step - loss: 0.9489 - accuracy: 0.6643 - val_loss: 0.7959 - val_accuracy: 0.7126\n",
            "Epoch 29/100\n",
            "1562/1562 [==============================] - 29s 18ms/step - loss: 0.9447 - accuracy: 0.6654 - val_loss: 0.8061 - val_accuracy: 0.7147\n",
            "Epoch 30/100\n",
            "1562/1562 [==============================] - 29s 18ms/step - loss: 0.9350 - accuracy: 0.6694 - val_loss: 0.8139 - val_accuracy: 0.7110\n",
            "Epoch 31/100\n",
            "1562/1562 [==============================] - 29s 19ms/step - loss: 0.9255 - accuracy: 0.6735 - val_loss: 0.8089 - val_accuracy: 0.7177\n",
            "Epoch 32/100\n",
            "1562/1562 [==============================] - 29s 18ms/step - loss: 0.9113 - accuracy: 0.6791 - val_loss: 0.7823 - val_accuracy: 0.7252\n",
            "Epoch 33/100\n",
            "1562/1562 [==============================] - 30s 19ms/step - loss: 0.9060 - accuracy: 0.6790 - val_loss: 0.7951 - val_accuracy: 0.7200\n",
            "Epoch 34/100\n",
            "1562/1562 [==============================] - 32s 20ms/step - loss: 0.8901 - accuracy: 0.6833 - val_loss: 0.8137 - val_accuracy: 0.7167\n",
            "Epoch 35/100\n",
            "1562/1562 [==============================] - 29s 19ms/step - loss: 0.8825 - accuracy: 0.6871 - val_loss: 0.7854 - val_accuracy: 0.7238\n",
            "Epoch 36/100\n",
            "1562/1562 [==============================] - 29s 18ms/step - loss: 0.8803 - accuracy: 0.6887 - val_loss: 0.8086 - val_accuracy: 0.7192\n",
            "Epoch 37/100\n",
            "1562/1562 [==============================] - 29s 18ms/step - loss: 0.8689 - accuracy: 0.6934 - val_loss: 0.7381 - val_accuracy: 0.7412\n",
            "Epoch 38/100\n",
            "1562/1562 [==============================] - 29s 18ms/step - loss: 0.8596 - accuracy: 0.6948 - val_loss: 0.7716 - val_accuracy: 0.7340\n",
            "Epoch 39/100\n",
            "1562/1562 [==============================] - 29s 18ms/step - loss: 0.8524 - accuracy: 0.7004 - val_loss: 0.7193 - val_accuracy: 0.7483\n",
            "Epoch 40/100\n",
            "1562/1562 [==============================] - 32s 21ms/step - loss: 0.8447 - accuracy: 0.7040 - val_loss: 0.7619 - val_accuracy: 0.7315\n",
            "Epoch 41/100\n",
            "1562/1562 [==============================] - 30s 19ms/step - loss: 0.8414 - accuracy: 0.7029 - val_loss: 0.7197 - val_accuracy: 0.7496\n",
            "Epoch 42/100\n",
            "1562/1562 [==============================] - 29s 19ms/step - loss: 0.8332 - accuracy: 0.7066 - val_loss: 0.7066 - val_accuracy: 0.7536\n",
            "Epoch 43/100\n",
            "1562/1562 [==============================] - 29s 18ms/step - loss: 0.8272 - accuracy: 0.7060 - val_loss: 0.7099 - val_accuracy: 0.7526\n",
            "Epoch 44/100\n",
            "1562/1562 [==============================] - 29s 18ms/step - loss: 0.8154 - accuracy: 0.7140 - val_loss: 0.7268 - val_accuracy: 0.7470\n",
            "Epoch 45/100\n",
            "1562/1562 [==============================] - 29s 18ms/step - loss: 0.8141 - accuracy: 0.7143 - val_loss: 0.7135 - val_accuracy: 0.7504\n",
            "Epoch 46/100\n",
            "1562/1562 [==============================] - 32s 20ms/step - loss: 0.8093 - accuracy: 0.7123 - val_loss: 0.7093 - val_accuracy: 0.7477\n",
            "Epoch 47/100\n",
            "1562/1562 [==============================] - 29s 18ms/step - loss: 0.8071 - accuracy: 0.7169 - val_loss: 0.7366 - val_accuracy: 0.7450\n",
            "Epoch 48/100\n",
            "1562/1562 [==============================] - 28s 18ms/step - loss: 0.7973 - accuracy: 0.7203 - val_loss: 0.7533 - val_accuracy: 0.7379\n",
            "Epoch 49/100\n",
            "1562/1562 [==============================] - 30s 19ms/step - loss: 0.7883 - accuracy: 0.7228 - val_loss: 0.7112 - val_accuracy: 0.7517\n",
            "Epoch 50/100\n",
            "1562/1562 [==============================] - 29s 19ms/step - loss: 0.7884 - accuracy: 0.7228 - val_loss: 0.6738 - val_accuracy: 0.7658\n",
            "Epoch 51/100\n",
            "1562/1562 [==============================] - 29s 19ms/step - loss: 0.7780 - accuracy: 0.7272 - val_loss: 0.6581 - val_accuracy: 0.7734\n",
            "Epoch 52/100\n",
            "1562/1562 [==============================] - 29s 19ms/step - loss: 0.7763 - accuracy: 0.7260 - val_loss: 0.6990 - val_accuracy: 0.7573\n",
            "Epoch 53/100\n",
            "1562/1562 [==============================] - 31s 20ms/step - loss: 0.7705 - accuracy: 0.7299 - val_loss: 0.6963 - val_accuracy: 0.7590\n",
            "Epoch 54/100\n",
            "1562/1562 [==============================] - 29s 18ms/step - loss: 0.7713 - accuracy: 0.7293 - val_loss: 0.6549 - val_accuracy: 0.7734\n",
            "Epoch 55/100\n",
            "1562/1562 [==============================] - 29s 18ms/step - loss: 0.7633 - accuracy: 0.7322 - val_loss: 0.6791 - val_accuracy: 0.7657\n",
            "Epoch 56/100\n",
            "1562/1562 [==============================] - 29s 19ms/step - loss: 0.7654 - accuracy: 0.7315 - val_loss: 0.6850 - val_accuracy: 0.7608\n",
            "Epoch 57/100\n",
            "1562/1562 [==============================] - 30s 19ms/step - loss: 0.7517 - accuracy: 0.7349 - val_loss: 0.7069 - val_accuracy: 0.7533\n",
            "Epoch 58/100\n",
            "1562/1562 [==============================] - 29s 18ms/step - loss: 0.7547 - accuracy: 0.7358 - val_loss: 0.6329 - val_accuracy: 0.7813\n",
            "Epoch 59/100\n",
            "1562/1562 [==============================] - 32s 20ms/step - loss: 0.7505 - accuracy: 0.7396 - val_loss: 0.6589 - val_accuracy: 0.7705\n",
            "Epoch 60/100\n",
            "1562/1562 [==============================] - 29s 19ms/step - loss: 0.7428 - accuracy: 0.7390 - val_loss: 0.6811 - val_accuracy: 0.7650\n",
            "Epoch 61/100\n",
            "1562/1562 [==============================] - 29s 18ms/step - loss: 0.7472 - accuracy: 0.7381 - val_loss: 0.6823 - val_accuracy: 0.7618\n",
            "Epoch 62/100\n",
            "1562/1562 [==============================] - 29s 19ms/step - loss: 0.7327 - accuracy: 0.7464 - val_loss: 0.6096 - val_accuracy: 0.7924\n",
            "Epoch 63/100\n",
            "1562/1562 [==============================] - 29s 18ms/step - loss: 0.7324 - accuracy: 0.7439 - val_loss: 0.6457 - val_accuracy: 0.7785\n",
            "Epoch 64/100\n",
            "1562/1562 [==============================] - 29s 19ms/step - loss: 0.7279 - accuracy: 0.7464 - val_loss: 0.6585 - val_accuracy: 0.7773\n",
            "Epoch 65/100\n",
            "1562/1562 [==============================] - 29s 19ms/step - loss: 0.7292 - accuracy: 0.7451 - val_loss: 0.6764 - val_accuracy: 0.7685\n",
            "Epoch 66/100\n",
            "1562/1562 [==============================] - 33s 21ms/step - loss: 0.7227 - accuracy: 0.7481 - val_loss: 0.6270 - val_accuracy: 0.7826\n",
            "Epoch 67/100\n",
            "1562/1562 [==============================] - 29s 18ms/step - loss: 0.7189 - accuracy: 0.7466 - val_loss: 0.6292 - val_accuracy: 0.7836\n",
            "Epoch 68/100\n",
            "1562/1562 [==============================] - 29s 18ms/step - loss: 0.7140 - accuracy: 0.7509 - val_loss: 0.6147 - val_accuracy: 0.7886\n",
            "Epoch 69/100\n",
            "1562/1562 [==============================] - 29s 18ms/step - loss: 0.7149 - accuracy: 0.7495 - val_loss: 0.6482 - val_accuracy: 0.7745\n",
            "Epoch 70/100\n",
            "1562/1562 [==============================] - 29s 18ms/step - loss: 0.7122 - accuracy: 0.7513 - val_loss: 0.6687 - val_accuracy: 0.7707\n",
            "Epoch 71/100\n",
            "1562/1562 [==============================] - 29s 19ms/step - loss: 0.7065 - accuracy: 0.7530 - val_loss: 0.6419 - val_accuracy: 0.7791\n",
            "Epoch 72/100\n",
            "1562/1562 [==============================] - 29s 19ms/step - loss: 0.6982 - accuracy: 0.7557 - val_loss: 0.6280 - val_accuracy: 0.7813\n",
            "Epoch 73/100\n",
            "1562/1562 [==============================] - 32s 21ms/step - loss: 0.7053 - accuracy: 0.7518 - val_loss: 0.6074 - val_accuracy: 0.7904\n",
            "Epoch 74/100\n",
            "1562/1562 [==============================] - 29s 19ms/step - loss: 0.7024 - accuracy: 0.7544 - val_loss: 0.6355 - val_accuracy: 0.7811\n",
            "Epoch 75/100\n",
            "1562/1562 [==============================] - 31s 20ms/step - loss: 0.6991 - accuracy: 0.7578 - val_loss: 0.6244 - val_accuracy: 0.7842\n",
            "Epoch 76/100\n",
            "1562/1562 [==============================] - 29s 19ms/step - loss: 0.6928 - accuracy: 0.7578 - val_loss: 0.6138 - val_accuracy: 0.7871\n",
            "Epoch 77/100\n",
            "1562/1562 [==============================] - 30s 19ms/step - loss: 0.6945 - accuracy: 0.7585 - val_loss: 0.6118 - val_accuracy: 0.7877\n",
            "Epoch 78/100\n",
            "1562/1562 [==============================] - 29s 19ms/step - loss: 0.6869 - accuracy: 0.7619 - val_loss: 0.5887 - val_accuracy: 0.7958\n",
            "Epoch 79/100\n",
            "1562/1562 [==============================] - 32s 21ms/step - loss: 0.6876 - accuracy: 0.7601 - val_loss: 0.5720 - val_accuracy: 0.8043\n",
            "Epoch 80/100\n",
            "1562/1562 [==============================] - 29s 19ms/step - loss: 0.6858 - accuracy: 0.7607 - val_loss: 0.6090 - val_accuracy: 0.7898\n",
            "Epoch 81/100\n",
            "1562/1562 [==============================] - 29s 19ms/step - loss: 0.6846 - accuracy: 0.7594 - val_loss: 0.6095 - val_accuracy: 0.7919\n",
            "Epoch 82/100\n",
            "1562/1562 [==============================] - 29s 19ms/step - loss: 0.6875 - accuracy: 0.7584 - val_loss: 0.6013 - val_accuracy: 0.7943\n",
            "Epoch 83/100\n",
            "1562/1562 [==============================] - 29s 18ms/step - loss: 0.6779 - accuracy: 0.7634 - val_loss: 0.5720 - val_accuracy: 0.8016\n",
            "Epoch 84/100\n",
            "1562/1562 [==============================] - 30s 19ms/step - loss: 0.6748 - accuracy: 0.7651 - val_loss: 0.6161 - val_accuracy: 0.7880\n",
            "Epoch 85/100\n",
            "1562/1562 [==============================] - 29s 18ms/step - loss: 0.6722 - accuracy: 0.7655 - val_loss: 0.6149 - val_accuracy: 0.7897\n",
            "Epoch 86/100\n",
            "1562/1562 [==============================] - 32s 21ms/step - loss: 0.6784 - accuracy: 0.7620 - val_loss: 0.5693 - val_accuracy: 0.8044\n",
            "Epoch 87/100\n",
            "1562/1562 [==============================] - 29s 19ms/step - loss: 0.6646 - accuracy: 0.7697 - val_loss: 0.6100 - val_accuracy: 0.7893\n",
            "Epoch 88/100\n",
            "1562/1562 [==============================] - 29s 18ms/step - loss: 0.6735 - accuracy: 0.7643 - val_loss: 0.5996 - val_accuracy: 0.7921\n",
            "Epoch 89/100\n",
            "1562/1562 [==============================] - 29s 19ms/step - loss: 0.6669 - accuracy: 0.7661 - val_loss: 0.5886 - val_accuracy: 0.7985\n",
            "Epoch 90/100\n",
            "1562/1562 [==============================] - 29s 18ms/step - loss: 0.6610 - accuracy: 0.7684 - val_loss: 0.6081 - val_accuracy: 0.7904\n",
            "Epoch 91/100\n",
            "1562/1562 [==============================] - 29s 18ms/step - loss: 0.6596 - accuracy: 0.7695 - val_loss: 0.5561 - val_accuracy: 0.8102\n",
            "Epoch 92/100\n",
            "1562/1562 [==============================] - 29s 19ms/step - loss: 0.6595 - accuracy: 0.7725 - val_loss: 0.5574 - val_accuracy: 0.8069\n",
            "Epoch 93/100\n",
            "1562/1562 [==============================] - 32s 20ms/step - loss: 0.6536 - accuracy: 0.7716 - val_loss: 0.5811 - val_accuracy: 0.8025\n",
            "Epoch 94/100\n",
            "1562/1562 [==============================] - 29s 18ms/step - loss: 0.6570 - accuracy: 0.7714 - val_loss: 0.5566 - val_accuracy: 0.8095\n",
            "Epoch 95/100\n",
            "1562/1562 [==============================] - 29s 18ms/step - loss: 0.6530 - accuracy: 0.7721 - val_loss: 0.5829 - val_accuracy: 0.7999\n",
            "Epoch 96/100\n",
            "1562/1562 [==============================] - 29s 19ms/step - loss: 0.6459 - accuracy: 0.7738 - val_loss: 0.5529 - val_accuracy: 0.8082\n",
            "Epoch 97/100\n",
            "1562/1562 [==============================] - 29s 18ms/step - loss: 0.6490 - accuracy: 0.7730 - val_loss: 0.5697 - val_accuracy: 0.8047\n",
            "Epoch 98/100\n",
            "1562/1562 [==============================] - 29s 18ms/step - loss: 0.6502 - accuracy: 0.7742 - val_loss: 0.5726 - val_accuracy: 0.8026\n",
            "Epoch 99/100\n",
            "1562/1562 [==============================] - 32s 20ms/step - loss: 0.6457 - accuracy: 0.7744 - val_loss: 0.5478 - val_accuracy: 0.8124\n",
            "Epoch 100/100\n",
            "1562/1562 [==============================] - 29s 19ms/step - loss: 0.6405 - accuracy: 0.7767 - val_loss: 0.5609 - val_accuracy: 0.8086\n"
          ]
        }
      ],
      "source": [
        "if not data_augmentation:\n",
        "    print('Not using data augmentation.')\n",
        "    model.fit(x_train, y_train,\n",
        "              batch_size=batch_size,\n",
        "              epochs=epochs,\n",
        "              validation_data=(x_test, y_test),\n",
        "              shuffle=True, callbacks=[tbCallBack])\n",
        "else:\n",
        "    print('Using real-time data augmentation.')\n",
        "    datagen = ImageDataGenerator(\n",
        "        featurewise_center=False,  # set input mean to 0 over the dataset\n",
        "        samplewise_center=False,  # set each sample mean to 0\n",
        "        featurewise_std_normalization=False,  # divide inputs by std of the dataset\n",
        "        samplewise_std_normalization=False,  # divide each input by its std\n",
        "        zca_whitening=False,  # apply ZCA whitening\n",
        "        rotation_range=10,  # randomly rotate images in the range (degrees, 0 to 180)\n",
        "        width_shift_range=0.2,  # randomly shift images horizontally (fraction of total width)\n",
        "        height_shift_range=0.2,  # randomly shift images vertically (fraction of total height)\n",
        "        horizontal_flip=True,  # randomly flip images\n",
        "        vertical_flip=False)  # randomly flip images\n",
        "\n",
        "\n",
        "    \n",
        "    datagen.fit(x_train)\n",
        "\n",
        "    model.fit_generator(datagen.flow(x_train, y_train,\n",
        "                                     batch_size=batch_size),\n",
        "                        steps_per_epoch=x_train.shape[0] // batch_size,\n",
        "                        epochs=epochs,\n",
        "                        validation_data=(x_test, y_test), callbacks=[tbCallBack])"
      ]
    },
    {
      "cell_type": "code",
      "execution_count": 65,
      "metadata": {
        "id": "gwnHPf8dlu9h"
      },
      "outputs": [],
      "source": [
        "hist = model.save('/content/drive/MyDrive/image_model2.h5')"
      ]
    },
    {
      "cell_type": "code",
      "execution_count": 10,
      "metadata": {
        "colab": {
          "base_uri": "https://localhost:8080/"
        },
        "id": "LJ131Tr_jLYq",
        "outputId": "ba6fd613-a524-4347-fe72-339544f1a2c9"
      },
      "outputs": [
        {
          "name": "stdout",
          "output_type": "stream",
          "text": [
            "313/313 [==============================] - 2s 5ms/step - loss: 0.5609 - accuracy: 0.8086\n",
            "Test Loss 0.5609250664710999\n",
            "Test Accuracy 0.8086000084877014\n"
          ]
        }
      ],
      "source": [
        "scores=model.evaluate(x_test,y_test,verbose=1)\n",
        "print(\"Test Loss\",scores[0])\n",
        "print(\"Test Accuracy\",scores[1])"
      ]
    },
    {
      "cell_type": "code",
      "execution_count": 12,
      "metadata": {
        "colab": {
          "base_uri": "https://localhost:8080/"
        },
        "id": "2jdtKgpaPDO0",
        "outputId": "13c429c6-9790-4f8f-92a8-5bf7a1cf4aa5"
      },
      "outputs": [
        {
          "data": {
            "text/plain": [
              "array([0., 0., 0., 0., 0., 0., 1., 0., 0., 0.], dtype=float32)"
            ]
          },
          "execution_count": 12,
          "metadata": {},
          "output_type": "execute_result"
        }
      ],
      "source": [
        "y_train[0]"
      ]
    },
    {
      "cell_type": "code",
      "execution_count": 13,
      "metadata": {
        "id": "TS1hbs2VQFZc"
      },
      "outputs": [],
      "source": [
        "import matplotlib.pyplot as plt"
      ]
    },
    {
      "cell_type": "code",
      "execution_count": 15,
      "metadata": {
        "colab": {
          "base_uri": "https://localhost:8080/",
          "height": 283
        },
        "id": "JsblRWY9QNI6",
        "outputId": "82615b07-ad11-46fd-8acb-ca0bd73e5dde"
      },
      "outputs": [
        {
          "data": {
            "text/plain": [
              "<matplotlib.image.AxesImage at 0x7f18920a0a10>"
            ]
          },
          "execution_count": 15,
          "metadata": {},
          "output_type": "execute_result"
        },
        {
          "data": {
            "image/png": "[encoded data removed]",
            "text/plain": [
              "<Figure size 432x288 with 1 Axes>"
            ]
          },
          "metadata": {
            "needs_background": "light"
          },
          "output_type": "display_data"
        }
      ],
      "source": [
        "plt.imshow(x_test[0])"
      ]
    },
    {
      "cell_type": "code",
      "execution_count": 22,
      "metadata": {
        "id": "NQJJPkOXQSaa"
      },
      "outputs": [],
      "source": [
        "model.predict(x_test[[4]])"
      ]
    },
    {
      "cell_type": "code",
      "execution_count": 90,
      "metadata": {
        "colab": {
          "base_uri": "https://localhost:8080/"
        },
        "id": "gUA7GcAWZ1dO",
        "outputId": "8fe956a2-b294-435b-a296-6c208c777d3a"
      },
      "outputs": [
        {
          "name": "stdout",
          "output_type": "stream",
          "text": [
            "automobile\n"
          ]
        }
      ],
      "source": [
        "from tensorflow.keras.preprocessing import image\n",
        "from tensorflow.keras.utils import img_to_array\n",
        "from keras.models import load_model\n",
        "\n",
        "# Labels of the CIFAR 10 dataset\n",
        "labels = '''airplane automobile bird cat deerdog frog horseship truck'''.split()\n",
        "\n",
        "\n",
        "filename= '/content/car.jpeg'\n",
        "\n",
        "\n",
        "def load_image(filename):\n",
        "\t\n",
        "\timg = image.load_img(filename, target_size=(32, 32))\n",
        "\t\n",
        "\timg = img_to_array(img)\n",
        "\t\n",
        "\timg = img.reshape(1, 32, 32, 3)\n",
        "\t\n",
        "\timg = img.astype('float32')\n",
        "\timg = img / 255.0\n",
        "\treturn img\n",
        " \n",
        "\n",
        "def run_example():\n",
        "\t\n",
        "\timg = load_image(filename)\n",
        "\t\n",
        "\tmodel = load_model('/content/drive/MyDrive/image_model2.h5')\n",
        "\t\n",
        "\tresult = labels[model.predict(img).argmax()]\n",
        "\tprint(result)\n",
        "  \n",
        "run_example()"
      ]
    },
    {
      "cell_type": "code",
      "execution_count": null,
      "metadata": {
        "id": "b_4rqlhxcm7e"
      },
      "outputs": [],
      "source": []
    }
  ],
  "metadata": {
    "accelerator": "GPU",
    "colab": {
      "collapsed_sections": [],
      "name": "Image classification.ipynb",
      "provenance": []
    },
    "gpuClass": "standard",
    "kernelspec": {
      "display_name": "Python 3.10.4 64-bit",
      "language": "python",
      "name": "python3"
    },
    "language_info": {
      "name": "python",
      "version": "3.10.4"
    },
    "vscode": {
      "interpreter": {
        "hash": "31f2aee4e71d21fbe5cf8b01ff0e069b9275f58929596ceb00d14d90e3e16cd6"
      }
    }
  },
  "nbformat": 4,
  "nbformat_minor": 0
}
